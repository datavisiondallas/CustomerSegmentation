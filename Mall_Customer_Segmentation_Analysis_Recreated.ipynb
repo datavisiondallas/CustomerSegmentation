{
 "cells": [
  {
   "cell_type": "markdown",
   "metadata": {},
   "source": [
    "# Mall Customer Segmentation Analysis (Full)\n",
    "\n",
    "This Jupyter notebook encapsulates the analysis performed on the 'Mall_Customers' dataset, including data cleaning, exploratory analysis, customer segmentation using K-Means clustering (with and without data standardization), and targeted marketing campaign suggestions for each customer segment.\n",
    "\n",
    "## Dataset Overview\n",
    "Data set pulled from Kaggle https://www.kaggle.com/datasets/vjchoudhary7/customer-segmentation-tutorial-in-python/ <br><br>\n",
    "The dataset includes the following columns:\n",
    "- CustomerID: Unique identifier for each customer.\n",
    "- Gender: Gender of the customer (Male/Female).\n",
    "- Age: Age of the customer.\n",
    "- Annual Income (k$): Annual Income of the customer in thousands of dollars.\n",
    "- Spending Score (1-100): A score assigned to the customer based on their spending behavior.\n",
    "\n",
    "## Analysis Steps\n",
    "\n",
    "1. Data Loading and Cleaning\n",
    "2. Exploratory Data Analysis\n",
    "3. Clustering using K-Means (with and without Standardized Data)\n",
    "4. Analysis of Clusters\n",
    "5. Targeted Campaign Suggestions for Each Cluster\n"
   ]
  },
  {
   "cell_type": "markdown",
   "metadata": {},
   "source": [
    "## Data Loading and Cleaning"
   ]
  },
  {
   "cell_type": "code",
   "execution_count": 1,
   "metadata": {},
   "outputs": [],
   "source": [
    "import pandas as pd\n",
    "import matplotlib.pyplot as plt\n",
    "from sklearn.cluster import KMeans\n",
    "from sklearn.preprocessing import StandardScaler"
   ]
  },
  {
   "cell_type": "code",
   "execution_count": 2,
   "metadata": {},
   "outputs": [
    {
     "data": {
      "text/html": [
       "<div>\n",
       "<style scoped>\n",
       "    .dataframe tbody tr th:only-of-type {\n",
       "        vertical-align: middle;\n",
       "    }\n",
       "\n",
       "    .dataframe tbody tr th {\n",
       "        vertical-align: top;\n",
       "    }\n",
       "\n",
       "    .dataframe thead th {\n",
       "        text-align: right;\n",
       "    }\n",
       "</style>\n",
       "<table border=\"1\" class=\"dataframe\">\n",
       "  <thead>\n",
       "    <tr style=\"text-align: right;\">\n",
       "      <th></th>\n",
       "      <th>CustomerID</th>\n",
       "      <th>Gender</th>\n",
       "      <th>Age</th>\n",
       "      <th>Annual Income (k$)</th>\n",
       "      <th>Spending Score (1-100)</th>\n",
       "    </tr>\n",
       "  </thead>\n",
       "  <tbody>\n",
       "    <tr>\n",
       "      <th>0</th>\n",
       "      <td>1</td>\n",
       "      <td>Male</td>\n",
       "      <td>19</td>\n",
       "      <td>15</td>\n",
       "      <td>39</td>\n",
       "    </tr>\n",
       "    <tr>\n",
       "      <th>1</th>\n",
       "      <td>2</td>\n",
       "      <td>Male</td>\n",
       "      <td>21</td>\n",
       "      <td>15</td>\n",
       "      <td>81</td>\n",
       "    </tr>\n",
       "    <tr>\n",
       "      <th>2</th>\n",
       "      <td>3</td>\n",
       "      <td>Female</td>\n",
       "      <td>20</td>\n",
       "      <td>16</td>\n",
       "      <td>6</td>\n",
       "    </tr>\n",
       "    <tr>\n",
       "      <th>3</th>\n",
       "      <td>4</td>\n",
       "      <td>Female</td>\n",
       "      <td>23</td>\n",
       "      <td>16</td>\n",
       "      <td>77</td>\n",
       "    </tr>\n",
       "    <tr>\n",
       "      <th>4</th>\n",
       "      <td>5</td>\n",
       "      <td>Female</td>\n",
       "      <td>31</td>\n",
       "      <td>17</td>\n",
       "      <td>40</td>\n",
       "    </tr>\n",
       "  </tbody>\n",
       "</table>\n",
       "</div>"
      ],
      "text/plain": [
       "   CustomerID  Gender  Age  Annual Income (k$)  Spending Score (1-100)\n",
       "0           1    Male   19                  15                      39\n",
       "1           2    Male   21                  15                      81\n",
       "2           3  Female   20                  16                       6\n",
       "3           4  Female   23                  16                      77\n",
       "4           5  Female   31                  17                      40"
      ]
     },
     "execution_count": 2,
     "metadata": {},
     "output_type": "execute_result"
    }
   ],
   "source": [
    "# Load the data (Update the file path as necessary)\n",
    "file_path = 'files/Mall_Customers.xlsx' \n",
    "data_xlsx = pd.read_excel(file_path)\n",
    "\n",
    "# Display the first few rows\n",
    "data_xlsx.head()"
   ]
  },
  {
   "cell_type": "code",
   "execution_count": 3,
   "metadata": {},
   "outputs": [
    {
     "name": "stdout",
     "output_type": "stream",
     "text": [
      "Mising Values:\n",
      "CustomerID                0\n",
      "Gender                    0\n",
      "Age                       0\n",
      "Annual Income (k$)        0\n",
      "Spending Score (1-100)    0\n",
      "dtype: int64\n",
      "------------------------------\n",
      "Duplicates:\n",
      "0\n",
      "------------------------------\n",
      "Data Types:\n",
      "CustomerID                 int64\n",
      "Gender                    object\n",
      "Age                        int64\n",
      "Annual Income (k$)         int64\n",
      "Spending Score (1-100)     int64\n",
      "dtype: object\n"
     ]
    }
   ],
   "source": [
    "# Checking for missing values and data types\n",
    "missing_values = data_xlsx.isnull().sum()\n",
    "data_types = data_xlsx.dtypes\n",
    "\n",
    "# Checking for duplicate entries\n",
    "duplicate_entries = data_xlsx.duplicated().sum()\n",
    "\n",
    "#missing_values, data_types, duplicate_entries\n",
    "print(f'''Mising Values:\\n{missing_values}\\n{'-'*30}\n",
    "Duplicates:\\n{duplicate_entries}\\n{'-'*30}\n",
    "Data Types:\\n{data_types}''')"
   ]
  },
  {
   "cell_type": "markdown",
   "metadata": {},
   "source": [
    "## Exploratory Data Analysis"
   ]
  },
  {
   "cell_type": "code",
   "execution_count": 4,
   "metadata": {},
   "outputs": [],
   "source": [
    "# Summary statistics for numeric columns\n",
    "numeric_summary = data_xlsx.describe()"
   ]
  },
  {
   "cell_type": "code",
   "execution_count": 5,
   "metadata": {},
   "outputs": [
    {
     "data": {
      "text/plain": [
       "(       CustomerID         Age  Annual Income (k$)  Spending Score (1-100)\n",
       " count  200.000000  200.000000          200.000000              200.000000\n",
       " mean   100.500000   38.850000           60.560000               50.200000\n",
       " std     57.879185   13.969007           26.264721               25.823522\n",
       " min      1.000000   18.000000           15.000000                1.000000\n",
       " 25%     50.750000   28.750000           41.500000               34.750000\n",
       " 50%    100.500000   36.000000           61.500000               50.000000\n",
       " 75%    150.250000   49.000000           78.000000               73.000000\n",
       " max    200.000000   70.000000          137.000000               99.000000,\n",
       " array(['Male', 'Female'], dtype=object))"
      ]
     },
     "execution_count": 5,
     "metadata": {},
     "output_type": "execute_result"
    }
   ],
   "source": [
    "# Unique values in the 'Gender' column\n",
    "gender_unique_values = data_xlsx['Gender'].unique()\n",
    "\n",
    "numeric_summary, gender_unique_values"
   ]
  },
  {
   "cell_type": "markdown",
   "metadata": {},
   "source": [
    "- From this analysis, the dataset appears to be clean and well-formatted. There are no apparent anomalies or inconsistencies."
   ]
  },
  {
   "cell_type": "markdown",
   "metadata": {},
   "source": [
    "## Clustering using K-Means (without Standardized Data)"
   ]
  },
  {
   "cell_type": "code",
   "execution_count": 6,
   "metadata": {},
   "outputs": [
    {
     "data": {
      "image/png": "[encoded data removed]",
      "text/plain": [
       "<Figure size 720x432 with 1 Axes>"
      ]
     },
     "metadata": {
      "needs_background": "light"
     },
     "output_type": "display_data"
    }
   ],
   "source": [
    "# Selecting the relevant features for clustering\n",
    "features = data_xlsx[['Age', 'Annual Income (k$)', 'Spending Score (1-100)']]\n",
    "\n",
    "# Using the Elbow Method to find the optimal number of clusters\n",
    "wcss = [] # Within-cluster sum of squares\n",
    "for i in range(1, 11):\n",
    "    kmeans = KMeans(n_clusters=i, init='k-means++', random_state=42)\n",
    "    kmeans.fit(features)\n",
    "    wcss.append(kmeans.inertia_)\n",
    "\n",
    "# Plotting the results of the Elbow Method\n",
    "plt.figure(figsize=(10, 6))\n",
    "plt.plot(range(1, 11), wcss, marker='o', linestyle='--')\n",
    "plt.title('Elbow Method For Optimal k')\n",
    "plt.xlabel('Number of clusters')\n",
    "plt.ylabel('WCSS')\n",
    "plt.show()"
   ]
  },
  {
   "cell_type": "code",
   "execution_count": 7,
   "metadata": {},
   "outputs": [
    {
     "data": {
      "image/png": "[encoded data removed]",
      "text/plain": [
       "<Figure size 720x432 with 1 Axes>"
      ]
     },
     "metadata": {
      "needs_background": "light"
     },
     "output_type": "display_data"
    }
   ],
   "source": [
    "# Reducing the range for the number of clusters to 1-7\n",
    "wcss_reduced_range = []\n",
    "for i in range(1, 8):\n",
    "    kmeans = KMeans(n_clusters=i, init='k-means++', random_state=42)\n",
    "    kmeans.fit(features)\n",
    "    wcss_reduced_range.append(kmeans.inertia_)\n",
    "\n",
    "# Plotting the results of the Elbow Method with reduced range\n",
    "plt.figure(figsize=(10, 6))\n",
    "plt.plot(range(1, 8), wcss_reduced_range, marker='o', linestyle='--')\n",
    "plt.title('Elbow Method For Optimal k (Reduced Range)')\n",
    "plt.xlabel('Number of clusters')\n",
    "plt.ylabel('WCSS')\n",
    "plt.show()"
   ]
  },
  {
   "cell_type": "code",
   "execution_count": 8,
   "metadata": {},
   "outputs": [
    {
     "data": {
      "text/html": [
       "<div>\n",
       "<style scoped>\n",
       "    .dataframe tbody tr th:only-of-type {\n",
       "        vertical-align: middle;\n",
       "    }\n",
       "\n",
       "    .dataframe tbody tr th {\n",
       "        vertical-align: top;\n",
       "    }\n",
       "\n",
       "    .dataframe thead th {\n",
       "        text-align: right;\n",
       "    }\n",
       "</style>\n",
       "<table border=\"1\" class=\"dataframe\">\n",
       "  <thead>\n",
       "    <tr style=\"text-align: right;\">\n",
       "      <th></th>\n",
       "      <th>CustomerID</th>\n",
       "      <th>Gender</th>\n",
       "      <th>Age</th>\n",
       "      <th>Annual Income (k$)</th>\n",
       "      <th>Spending Score (1-100)</th>\n",
       "      <th>Cluster</th>\n",
       "    </tr>\n",
       "  </thead>\n",
       "  <tbody>\n",
       "    <tr>\n",
       "      <th>0</th>\n",
       "      <td>1</td>\n",
       "      <td>Male</td>\n",
       "      <td>19</td>\n",
       "      <td>15</td>\n",
       "      <td>39</td>\n",
       "      <td>0</td>\n",
       "    </tr>\n",
       "    <tr>\n",
       "      <th>1</th>\n",
       "      <td>2</td>\n",
       "      <td>Male</td>\n",
       "      <td>21</td>\n",
       "      <td>15</td>\n",
       "      <td>81</td>\n",
       "      <td>0</td>\n",
       "    </tr>\n",
       "    <tr>\n",
       "      <th>2</th>\n",
       "      <td>3</td>\n",
       "      <td>Female</td>\n",
       "      <td>20</td>\n",
       "      <td>16</td>\n",
       "      <td>6</td>\n",
       "      <td>3</td>\n",
       "    </tr>\n",
       "    <tr>\n",
       "      <th>3</th>\n",
       "      <td>4</td>\n",
       "      <td>Female</td>\n",
       "      <td>23</td>\n",
       "      <td>16</td>\n",
       "      <td>77</td>\n",
       "      <td>0</td>\n",
       "    </tr>\n",
       "    <tr>\n",
       "      <th>4</th>\n",
       "      <td>5</td>\n",
       "      <td>Female</td>\n",
       "      <td>31</td>\n",
       "      <td>17</td>\n",
       "      <td>40</td>\n",
       "      <td>3</td>\n",
       "    </tr>\n",
       "  </tbody>\n",
       "</table>\n",
       "</div>"
      ],
      "text/plain": [
       "   CustomerID  Gender  Age  Annual Income (k$)  Spending Score (1-100)  \\\n",
       "0           1    Male   19                  15                      39   \n",
       "1           2    Male   21                  15                      81   \n",
       "2           3  Female   20                  16                       6   \n",
       "3           4  Female   23                  16                      77   \n",
       "4           5  Female   31                  17                      40   \n",
       "\n",
       "   Cluster  \n",
       "0        0  \n",
       "1        0  \n",
       "2        3  \n",
       "3        0  \n",
       "4        3  "
      ]
     },
     "execution_count": 8,
     "metadata": {},
     "output_type": "execute_result"
    }
   ],
   "source": [
    "# Performing K-Means clustering with 4 clusters\n",
    "kmeans = KMeans(n_clusters=4, init='k-means++', random_state=42)\n",
    "clusters = kmeans.fit_predict(features)\n",
    "\n",
    "# Adding the cluster information to the original dataframe\n",
    "data_clustered = data_xlsx.copy()\n",
    "data_clustered['Cluster'] = clusters\n",
    "\n",
    "# Displaying the first few rows of the dataframe with cluster information\n",
    "data_clustered.head()"
   ]
  },
  {
   "cell_type": "markdown",
   "metadata": {},
   "source": [
    "## Analysis of Clusters (without Standardized Data)"
   ]
  },
  {
   "cell_type": "code",
   "execution_count": 9,
   "metadata": {},
   "outputs": [
    {
     "data": {
      "text/plain": [
       "0    28\n",
       "1    39\n",
       "2    38\n",
       "3    95\n",
       "Name: Cluster, dtype: int64"
      ]
     },
     "execution_count": 9,
     "metadata": {},
     "output_type": "execute_result"
    }
   ],
   "source": [
    "data_clustered['Cluster'].value_counts().sort_index()"
   ]
  },
  {
   "cell_type": "code",
   "execution_count": 10,
   "metadata": {},
   "outputs": [
    {
     "data": {
      "text/html": [
       "<div>\n",
       "<style scoped>\n",
       "    .dataframe tbody tr th:only-of-type {\n",
       "        vertical-align: middle;\n",
       "    }\n",
       "\n",
       "    .dataframe tbody tr th {\n",
       "        vertical-align: top;\n",
       "    }\n",
       "\n",
       "    .dataframe thead th {\n",
       "        text-align: right;\n",
       "    }\n",
       "</style>\n",
       "<table border=\"1\" class=\"dataframe\">\n",
       "  <thead>\n",
       "    <tr style=\"text-align: right;\">\n",
       "      <th></th>\n",
       "      <th>CustomerID</th>\n",
       "      <th>Age</th>\n",
       "      <th>Annual Income (k$)</th>\n",
       "      <th>Spending Score (1-100)</th>\n",
       "    </tr>\n",
       "    <tr>\n",
       "      <th>Cluster</th>\n",
       "      <th></th>\n",
       "      <th></th>\n",
       "      <th></th>\n",
       "      <th></th>\n",
       "    </tr>\n",
       "  </thead>\n",
       "  <tbody>\n",
       "    <tr>\n",
       "      <th>0</th>\n",
       "      <td>28.642857</td>\n",
       "      <td>24.821429</td>\n",
       "      <td>28.714286</td>\n",
       "      <td>74.250000</td>\n",
       "    </tr>\n",
       "    <tr>\n",
       "      <th>1</th>\n",
       "      <td>162.000000</td>\n",
       "      <td>32.692308</td>\n",
       "      <td>86.538462</td>\n",
       "      <td>82.128205</td>\n",
       "    </tr>\n",
       "    <tr>\n",
       "      <th>2</th>\n",
       "      <td>162.000000</td>\n",
       "      <td>40.394737</td>\n",
       "      <td>87.000000</td>\n",
       "      <td>18.631579</td>\n",
       "    </tr>\n",
       "    <tr>\n",
       "      <th>3</th>\n",
       "      <td>71.831579</td>\n",
       "      <td>44.894737</td>\n",
       "      <td>48.705263</td>\n",
       "      <td>42.631579</td>\n",
       "    </tr>\n",
       "  </tbody>\n",
       "</table>\n",
       "</div>"
      ],
      "text/plain": [
       "         CustomerID        Age  Annual Income (k$)  Spending Score (1-100)\n",
       "Cluster                                                                   \n",
       "0         28.642857  24.821429           28.714286               74.250000\n",
       "1        162.000000  32.692308           86.538462               82.128205\n",
       "2        162.000000  40.394737           87.000000               18.631579\n",
       "3         71.831579  44.894737           48.705263               42.631579"
      ]
     },
     "execution_count": 10,
     "metadata": {},
     "output_type": "execute_result"
    }
   ],
   "source": [
    "# Calculating mean values for each cluster\n",
    "cluster_means = data_clustered.groupby('Cluster').mean()\n",
    "cluster_means"
   ]
  },
  {
   "cell_type": "markdown",
   "metadata": {},
   "source": [
    "    Cluster 0:\n",
    "        Average Age: ~25 years\n",
    "        Average Annual Income: ~$29,000\n",
    "        Average Spending Score: ~74\n",
    "        Characteristics: Lower income, high spending score, younger age group.\n",
    "\n",
    "    Cluster 1:\n",
    "        Average Age: ~33 years\n",
    "        Average Annual Income: ~$87,000\n",
    "        Average Spending Score: ~82\n",
    "        Characteristics: Higher income, high spending score, younger than Cluster 0 but older than Cluster 2.\n",
    "        \n",
    "     Cluster 2:\n",
    "        Average Age: ~40 years\n",
    "        Average Annual Income: ~$87,000\n",
    "        Average Spending Score: ~19\n",
    "        Characteristics: Higher income, lower spending score, middle-aged.\n",
    "\n",
    "    Cluster 3:\n",
    "        Average Age: ~45 years\n",
    "        Average Annual Income: ~$49,000\n",
    "        Average Spending Score: ~43\n",
    "        Characteristics: Moderate income and spending score, older age group."
   ]
  },
  {
   "cell_type": "markdown",
   "metadata": {},
   "source": [
    "## Clustering using K-Means (Standardized Data)"
   ]
  },
  {
   "cell_type": "markdown",
   "metadata": {},
   "source": [
    "<b>Why Standardize?</b> <br>\n",
    "Standardizing the data is generally recommended when using K-Means clustering. K-Means clustering is a distance-based algorithm (it uses Euclidean distance to assess similarity), and thus it is sensitive to the scales of the data. Features on larger scales can disproportionately influence the result, leading to potentially misleading clusters.\n",
    "\n",
    "Standardizing the data (such as using z-score normalization) ensures that each feature contributes equally to the distance calculations. This process transforms the data so that each feature has a mean of 0 and a standard deviation of 1."
   ]
  },
  {
   "cell_type": "code",
   "execution_count": 11,
   "metadata": {},
   "outputs": [
    {
     "data": {
      "image/png": "[encoded data removed]",
      "text/plain": [
       "<Figure size 720x432 with 1 Axes>"
      ]
     },
     "metadata": {
      "needs_background": "light"
     },
     "output_type": "display_data"
    }
   ],
   "source": [
    "# Selecting the features to be standardized\n",
    "features_to_standardize = data_xlsx[['Age', 'Annual Income (k$)', 'Spending Score (1-100)']]\n",
    "\n",
    "# Standardizing the features\n",
    "scaler = StandardScaler()\n",
    "scaled_features = scaler.fit_transform(features_to_standardize)\n",
    "\n",
    "# Using the Elbow Method to find the optimal number of clusters on standardized data\n",
    "wcss_standardized = []\n",
    "for i in range(1, 6):\n",
    "    kmeans = KMeans(n_clusters=i, init='k-means++', random_state=42)\n",
    "    kmeans.fit(scaled_features)\n",
    "    wcss_standardized.append(kmeans.inertia_)\n",
    "\n",
    "# Plotting the results of the Elbow Method with standardized data\n",
    "plt.figure(figsize=(10, 6))\n",
    "plt.plot(range(1, 6), wcss_standardized, marker='o', linestyle='--')\n",
    "plt.title('Elbow Method For Optimal k (Standardized Data)')\n",
    "plt.xlabel('Number of clusters')\n",
    "plt.ylabel('WCSS')\n",
    "plt.show()"
   ]
  },
  {
   "cell_type": "code",
   "execution_count": 12,
   "metadata": {},
   "outputs": [
    {
     "data": {
      "text/html": [
       "<div>\n",
       "<style scoped>\n",
       "    .dataframe tbody tr th:only-of-type {\n",
       "        vertical-align: middle;\n",
       "    }\n",
       "\n",
       "    .dataframe tbody tr th {\n",
       "        vertical-align: top;\n",
       "    }\n",
       "\n",
       "    .dataframe thead th {\n",
       "        text-align: right;\n",
       "    }\n",
       "</style>\n",
       "<table border=\"1\" class=\"dataframe\">\n",
       "  <thead>\n",
       "    <tr style=\"text-align: right;\">\n",
       "      <th></th>\n",
       "      <th>CustomerID</th>\n",
       "      <th>Age</th>\n",
       "      <th>Annual Income (k$)</th>\n",
       "      <th>Spending Score (1-100)</th>\n",
       "    </tr>\n",
       "    <tr>\n",
       "      <th>Cluster</th>\n",
       "      <th></th>\n",
       "      <th></th>\n",
       "      <th></th>\n",
       "      <th></th>\n",
       "    </tr>\n",
       "  </thead>\n",
       "  <tbody>\n",
       "    <tr>\n",
       "      <th>0</th>\n",
       "      <td>160.552632</td>\n",
       "      <td>39.368421</td>\n",
       "      <td>86.500000</td>\n",
       "      <td>19.578947</td>\n",
       "    </tr>\n",
       "    <tr>\n",
       "      <th>1</th>\n",
       "      <td>53.438596</td>\n",
       "      <td>25.438596</td>\n",
       "      <td>40.000000</td>\n",
       "      <td>60.298246</td>\n",
       "    </tr>\n",
       "    <tr>\n",
       "      <th>2</th>\n",
       "      <td>161.025000</td>\n",
       "      <td>32.875000</td>\n",
       "      <td>86.100000</td>\n",
       "      <td>81.525000</td>\n",
       "    </tr>\n",
       "    <tr>\n",
       "      <th>3</th>\n",
       "      <td>69.415385</td>\n",
       "      <td>53.984615</td>\n",
       "      <td>47.707692</td>\n",
       "      <td>39.969231</td>\n",
       "    </tr>\n",
       "  </tbody>\n",
       "</table>\n",
       "</div>"
      ],
      "text/plain": [
       "         CustomerID        Age  Annual Income (k$)  Spending Score (1-100)\n",
       "Cluster                                                                   \n",
       "0        160.552632  39.368421           86.500000               19.578947\n",
       "1         53.438596  25.438596           40.000000               60.298246\n",
       "2        161.025000  32.875000           86.100000               81.525000\n",
       "3         69.415385  53.984615           47.707692               39.969231"
      ]
     },
     "execution_count": 12,
     "metadata": {},
     "output_type": "execute_result"
    }
   ],
   "source": [
    "# Performing K-Means clustering with 4 clusters on standardized data\n",
    "kmeans_standardized = KMeans(n_clusters=4, init='k-means++', random_state=42)\n",
    "clusters_standardized = kmeans_standardized.fit_predict(scaled_features)\n",
    "\n",
    "# Adding the cluster information to the original dataframe\n",
    "data_clustered_standardized = data_xlsx.copy()\n",
    "data_clustered_standardized['Cluster'] = clusters_standardized\n",
    "\n",
    "# Calculating mean values for each cluster in the standardized data\n",
    "cluster_means_standardized = data_clustered_standardized.groupby('Cluster').mean()\n",
    "\n",
    "cluster_means_standardized"
   ]
  },
  {
   "cell_type": "code",
   "execution_count": 13,
   "metadata": {},
   "outputs": [
    {
     "data": {
      "text/plain": [
       "0    38\n",
       "1    57\n",
       "2    40\n",
       "3    65\n",
       "Name: Cluster, dtype: int64"
      ]
     },
     "execution_count": 13,
     "metadata": {},
     "output_type": "execute_result"
    }
   ],
   "source": [
    "data_clustered_standardized['Cluster'].value_counts().sort_index()"
   ]
  },
  {
   "cell_type": "markdown",
   "metadata": {},
   "source": [
    "## Analysis of Clusters (Standardized Data)"
   ]
  },
  {
   "cell_type": "markdown",
   "metadata": {},
   "source": [
    "    Cluster 0:\n",
    "        Average Age: ~39 years\n",
    "        Average Annual Income: ~$86,500\n",
    "        Average Spending Score: ~20\n",
    "        Characteristics: Middle-aged with high income and low spending score.\n",
    "    \n",
    "    Cluster 1:\n",
    "        Average Age: ~25 years\n",
    "        Average Annual Income: ~$40,000\n",
    "        Average Spending Score: ~60\n",
    "        Characteristics: Young adults with moderate income and moderate spending score.\n",
    "    \n",
    "    Cluster 2:\n",
    "        Average Age: ~33 years\n",
    "        Average Annual Income: ~$86,100\n",
    "        Average Spending Score: ~82\n",
    "        Characteristics: Younger adults with high income and high spending score.\n",
    "\n",
    "    Cluster 3:\n",
    "        Average Age: ~54 years\n",
    "        Average Annual Income: ~$47,700\n",
    "        Average Spending Score: ~40\n",
    "        Characteristics: Older adults with moderate income and moderate spending score."
   ]
  },
  {
   "cell_type": "markdown",
   "metadata": {},
   "source": [
    "## Targeted Campaign Suggestions for Each Cluster"
   ]
  },
  {
   "cell_type": "markdown",
   "metadata": {},
   "source": [
    "### Cluster 0: Middle-aged, High Income, Low Spending\n",
    "\n",
    "    Campaign Idea: \"Exclusive Quality\"\n",
    "        Focus: High-quality, durable products with an emphasis on value and long-term investment.\n",
    "        Promotion Strategy: Use direct mail or email newsletters highlighting durability, craftsmanship, \n",
    "        and the cost-effectiveness of products over time.\n",
    "        Events: Host in-store demonstrations or webinars on product care or investment pieces for the home.\n",
    "\n",
    "### Cluster 1: Young Adults, Moderate Income, Moderate Spending\n",
    "\n",
    "    Campaign Idea: \"Smart Savvy Shoppers\"\n",
    "        Focus: Trendy yet affordable products, bundled offers, and limited-time deals.\n",
    "        Promotion Strategy: Use social media and email campaigns that emphasize style, affordability, \n",
    "        and the \"smart buy.\"\n",
    "        Events: Flash sales or pop-up events, collaborations with popular but affordable brands.\n",
    "\n",
    "### Cluster 2: Younger Adults, High Income, High Spending\n",
    "\n",
    "    Campaign Idea: \"Trendsetters' Club\"\n",
    "        Focus: Latest trends, premium brands, and luxury experiences.\n",
    "        Promotion Strategy: Leverage social media influencers and create Instagram-worthy in-store experiences \n",
    "        or exclusive online content.\n",
    "        Events: Invite-only events or early access to new product releases, possibly integrating augmented \n",
    "        reality (AR) experiences.\n",
    "\n",
    "### Cluster 3: Older Adults, Moderate Income, Moderate Spending\n",
    "\n",
    "    Campaign Idea: \"Classic Value\"\n",
    "        Focus: Quality, classic items with a focus on comfort, practicality, and ease of use.\n",
    "        Promotion Strategy: Traditional marketing channels like print ads, along with Facebook and email campaigns.\n",
    "        Emphasize customer testimonials and practical benefits.\n",
    "        Events: Workshops or seminars that align with lifestyle interests, like gardening, cooking, \n",
    "        or home organization."
   ]
  }
 ],
 "metadata": {
  "kernelspec": {
   "display_name": "Python 3",
   "language": "python",
   "name": "python3"
  },
  "language_info": {
   "codemirror_mode": {
    "name": "ipython",
    "version": 3
   },
   "file_extension": ".py",
   "mimetype": "text/x-python",
   "name": "python",
   "nbconvert_exporter": "python",
   "pygments_lexer": "ipython3",
   "version": "3.8.3"
  }
 },
 "nbformat": 4,
 "nbformat_minor": 5
}
